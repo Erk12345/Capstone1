{
 "cells": [
  {
   "cell_type": "markdown",
   "metadata": {},
   "source": [
    "# Capstone Project - The Battle of Neighborhoods"
   ]
  },
  {
   "cell_type": "markdown",
   "metadata": {},
   "source": [
    "## Business Problem Section"
   ]
  },
  {
   "cell_type": "markdown",
   "metadata": {},
   "source": [
    "#### Background"
   ]
  },
  {
   "cell_type": "markdown",
   "metadata": {},
   "source": [
    "We have saved some money throughout the past years and we want to invest in Real State business. We want to buy a house in Mexico City in order to rent it, but we want to find a profitable place."
   ]
  },
  {
   "cell_type": "markdown",
   "metadata": {},
   "source": [
    "#### Where should we buy the house/apartment?"
   ]
  },
  {
   "cell_type": "markdown",
   "metadata": {},
   "source": [
    "We are not able to visit all the neighborhoods in Mexico City, so we are going to use Cluster Analysis with AirBnB data in order to see the demand of rent sevice´s and use the FourSquare data location to see if there is any relation between the demand of rent sevice's and the density of venues."
   ]
  },
  {
   "cell_type": "markdown",
   "metadata": {},
   "source": [
    "## Data section"
   ]
  },
  {
   "cell_type": "markdown",
   "metadata": {},
   "source": [
    "AirBnB data was collected from the website called *Kaggle* which is an online community of data scientists and machine learners, owned by Google LLC. Kaggle allows users to find and publish data sets, as well as so many other things. The dataset could be download in https://www.kaggle.com/tsarina/mexico-city-airbnb.\n",
    "\n",
    "We are going to use the data of neighbourhood, latitude, longitude, room_type, price and calculated_host_listings_count columns. The first ones to make FourSqu"
   ]
  },
  {
   "cell_type": "markdown",
   "metadata": {},
   "source": [
    "## Methodology section\n",
    "\n",
    "The Methodology section describe the main components of our analysis. The Methodology section comprises four stages:\n",
    "\n",
    "1. Collect Data\n",
    "2. Explore and Understand Data\n",
    "3. Data preparation and preprocessing \n",
    "4. Modeling"
   ]
  }
 ],
 "metadata": {
  "kernelspec": {
   "display_name": "Python 3",
   "language": "python",
   "name": "python3"
  },
  "language_info": {
   "codemirror_mode": {
    "name": "ipython",
    "version": 3
   },
   "file_extension": ".py",
   "mimetype": "text/x-python",
   "name": "python",
   "nbconvert_exporter": "python",
   "pygments_lexer": "ipython3",
   "version": "3.6.5"
  }
 },
 "nbformat": 4,
 "nbformat_minor": 2
}
