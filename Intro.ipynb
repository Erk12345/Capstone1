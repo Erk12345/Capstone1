{
 "cells": [
  {
   "cell_type": "markdown",
   "metadata": {},
   "source": [
    "# Capstone Project - The Battle of Neighborhoods"
   ]
  },
  {
   "cell_type": "markdown",
   "metadata": {},
   "source": [
    "## Business Problem Section"
   ]
  },
  {
   "cell_type": "markdown",
   "metadata": {},
   "source": [
    "#### Background"
   ]
  },
  {
   "cell_type": "markdown",
   "metadata": {},
   "source": [
    "We have saved some money throughout the past years and we want to invest in Real State business. We want to buy a house in Mexico City in order to rent it, but we want to find a profitable place."
   ]
  },
  {
   "cell_type": "markdown",
   "metadata": {},
   "source": [
    "#### Where should we buy the house/apartment?"
   ]
  },
  {
   "cell_type": "markdown",
   "metadata": {},
   "source": [
    "We are not able to visit all the neighborhoods in Mexico City, so we are going to use Cluster Analysis with AirBnB data in order to see the demand of rent sevice´s and use the FourSquare data location to see if there is any relation between the demand of rent sevice's and the density of venues."
   ]
  },
  {
   "cell_type": "markdown",
   "metadata": {},
   "source": [
    "## Data section"
   ]
  },
  {
   "cell_type": "markdown",
   "metadata": {},
   "source": [
    "AirBnB data was collected from the website called *Kaggle* which is an online community of data scientists and machine learners, owned by Google LLC. Kaggle allows users to find and publish data sets, as well as so many other things. The dataset could be download in https://www.kaggle.com/tsarina/mexico-city-airbnb.\n",
    "\n",
    "We are going to use the data of neighbourhood, latitude, longitude, room_type, price and calculated_host_listings_count columns. The first ones to make FourSquare calls and the three last to see if there is any relation as we mentioned before."
   ]
  },
  {
   "cell_type": "markdown",
   "metadata": {},
   "source": [
    "## Methodology section\n",
    "\n",
    "The Methodology section describe the main components of our analysis. The Methodology section comprises four stages:\n",
    "\n",
    "1. Collect Data\n",
    "2. Explore and Understand Data\n",
    "3. Data preparation and preprocessing \n",
    "4. Modeling"
   ]
  },
  {
   "cell_type": "markdown",
   "metadata": {},
   "source": [
    "#### 1. Collect data"
   ]
  },
  {
   "cell_type": "code",
   "execution_count": 46,
   "metadata": {},
   "outputs": [],
   "source": [
    "import pandas as pd\n",
    "import numpy as np"
   ]
  },
  {
   "cell_type": "code",
   "execution_count": 26,
   "metadata": {},
   "outputs": [
    {
     "data": {
      "text/html": [
       "<div>\n",
       "<style scoped>\n",
       "    .dataframe tbody tr th:only-of-type {\n",
       "        vertical-align: middle;\n",
       "    }\n",
       "\n",
       "    .dataframe tbody tr th {\n",
       "        vertical-align: top;\n",
       "    }\n",
       "\n",
       "    .dataframe thead th {\n",
       "        text-align: right;\n",
       "    }\n",
       "</style>\n",
       "<table border=\"1\" class=\"dataframe\">\n",
       "  <thead>\n",
       "    <tr style=\"text-align: right;\">\n",
       "      <th></th>\n",
       "      <th>id</th>\n",
       "      <th>name</th>\n",
       "      <th>host_id</th>\n",
       "      <th>host_name</th>\n",
       "      <th>neighbourhood_group</th>\n",
       "      <th>neighbourhood</th>\n",
       "      <th>latitude</th>\n",
       "      <th>longitude</th>\n",
       "      <th>room_type</th>\n",
       "      <th>price</th>\n",
       "      <th>minimum_nights</th>\n",
       "      <th>number_of_reviews</th>\n",
       "      <th>last_review</th>\n",
       "      <th>reviews_per_month</th>\n",
       "      <th>calculated_host_listings_count</th>\n",
       "      <th>availability_365</th>\n",
       "    </tr>\n",
       "  </thead>\n",
       "  <tbody>\n",
       "    <tr>\n",
       "      <td>0</td>\n",
       "      <td>14714</td>\n",
       "      <td>Private room c/ bathroom . Colonia Juarez.</td>\n",
       "      <td>57785</td>\n",
       "      <td>Diego</td>\n",
       "      <td>NaN</td>\n",
       "      <td>Cuauhtémoc</td>\n",
       "      <td>19.43035</td>\n",
       "      <td>-99.15511</td>\n",
       "      <td>Private room</td>\n",
       "      <td>478</td>\n",
       "      <td>2</td>\n",
       "      <td>0</td>\n",
       "      <td>NaN</td>\n",
       "      <td>NaN</td>\n",
       "      <td>2</td>\n",
       "      <td>327</td>\n",
       "    </tr>\n",
       "    <tr>\n",
       "      <td>1</td>\n",
       "      <td>22787</td>\n",
       "      <td>Sunny suite w/ queen size bed, inside boutique...</td>\n",
       "      <td>87973</td>\n",
       "      <td>Diego</td>\n",
       "      <td>NaN</td>\n",
       "      <td>Cuauhtémoc</td>\n",
       "      <td>19.44076</td>\n",
       "      <td>-99.16324</td>\n",
       "      <td>Private room</td>\n",
       "      <td>1969</td>\n",
       "      <td>1</td>\n",
       "      <td>57</td>\n",
       "      <td>2019-05-27</td>\n",
       "      <td>0.52</td>\n",
       "      <td>9</td>\n",
       "      <td>355</td>\n",
       "    </tr>\n",
       "    <tr>\n",
       "      <td>2</td>\n",
       "      <td>33681</td>\n",
       "      <td>Couple of Rooms</td>\n",
       "      <td>145672</td>\n",
       "      <td>Edubiel</td>\n",
       "      <td>NaN</td>\n",
       "      <td>Tlalpan</td>\n",
       "      <td>19.27215</td>\n",
       "      <td>-99.21848</td>\n",
       "      <td>Private room</td>\n",
       "      <td>1740</td>\n",
       "      <td>1</td>\n",
       "      <td>0</td>\n",
       "      <td>NaN</td>\n",
       "      <td>NaN</td>\n",
       "      <td>1</td>\n",
       "      <td>365</td>\n",
       "    </tr>\n",
       "    <tr>\n",
       "      <td>3</td>\n",
       "      <td>35797</td>\n",
       "      <td>Villa Dante</td>\n",
       "      <td>153786</td>\n",
       "      <td>Dici</td>\n",
       "      <td>NaN</td>\n",
       "      <td>Cuajimalpa de Morelos</td>\n",
       "      <td>19.38399</td>\n",
       "      <td>-99.27335</td>\n",
       "      <td>Entire home/apt</td>\n",
       "      <td>3823</td>\n",
       "      <td>1</td>\n",
       "      <td>0</td>\n",
       "      <td>NaN</td>\n",
       "      <td>NaN</td>\n",
       "      <td>2</td>\n",
       "      <td>363</td>\n",
       "    </tr>\n",
       "    <tr>\n",
       "      <td>4</td>\n",
       "      <td>44616</td>\n",
       "      <td>CONDESA HAUS  B&amp;B</td>\n",
       "      <td>196253</td>\n",
       "      <td>Condesa Haus Bed &amp; Breakfast  CDMX</td>\n",
       "      <td>NaN</td>\n",
       "      <td>Cuauhtémoc</td>\n",
       "      <td>19.41006</td>\n",
       "      <td>-99.17645</td>\n",
       "      <td>Private room</td>\n",
       "      <td>1893</td>\n",
       "      <td>1</td>\n",
       "      <td>39</td>\n",
       "      <td>2019-05-02</td>\n",
       "      <td>0.42</td>\n",
       "      <td>10</td>\n",
       "      <td>334</td>\n",
       "    </tr>\n",
       "  </tbody>\n",
       "</table>\n",
       "</div>"
      ],
      "text/plain": [
       "      id                                               name  host_id  \\\n",
       "0  14714         Private room c/ bathroom . Colonia Juarez.    57785   \n",
       "1  22787  Sunny suite w/ queen size bed, inside boutique...    87973   \n",
       "2  33681                                    Couple of Rooms   145672   \n",
       "3  35797                                        Villa Dante   153786   \n",
       "4  44616                                  CONDESA HAUS  B&B   196253   \n",
       "\n",
       "                            host_name  neighbourhood_group  \\\n",
       "0                               Diego                  NaN   \n",
       "1                               Diego                  NaN   \n",
       "2                             Edubiel                  NaN   \n",
       "3                                Dici                  NaN   \n",
       "4  Condesa Haus Bed & Breakfast  CDMX                  NaN   \n",
       "\n",
       "           neighbourhood  latitude  longitude        room_type  price  \\\n",
       "0             Cuauhtémoc  19.43035  -99.15511     Private room    478   \n",
       "1             Cuauhtémoc  19.44076  -99.16324     Private room   1969   \n",
       "2                Tlalpan  19.27215  -99.21848     Private room   1740   \n",
       "3  Cuajimalpa de Morelos  19.38399  -99.27335  Entire home/apt   3823   \n",
       "4             Cuauhtémoc  19.41006  -99.17645     Private room   1893   \n",
       "\n",
       "   minimum_nights  number_of_reviews last_review  reviews_per_month  \\\n",
       "0               2                  0         NaN                NaN   \n",
       "1               1                 57  2019-05-27               0.52   \n",
       "2               1                  0         NaN                NaN   \n",
       "3               1                  0         NaN                NaN   \n",
       "4               1                 39  2019-05-02               0.42   \n",
       "\n",
       "   calculated_host_listings_count  availability_365  \n",
       "0                               2               327  \n",
       "1                               9               355  \n",
       "2                               1               365  \n",
       "3                               2               363  \n",
       "4                              10               334  "
      ]
     },
     "execution_count": 26,
     "metadata": {},
     "output_type": "execute_result"
    }
   ],
   "source": [
    "airbnb = pd.read_csv('airmx.csv')\n",
    "airbnb.head()"
   ]
  },
  {
   "cell_type": "markdown",
   "metadata": {},
   "source": [
    "We are going to use the data of neighbourhood, latitude, longitude, room_type, price and calculated_host_listings_count. We will drop the other ones.\n",
    "We also going to rename the columns to make it more understandable."
   ]
  },
  {
   "cell_type": "code",
   "execution_count": 27,
   "metadata": {},
   "outputs": [
    {
     "name": "stdout",
     "output_type": "stream",
     "text": [
      "(19030, 6)\n"
     ]
    },
    {
     "data": {
      "text/html": [
       "<div>\n",
       "<style scoped>\n",
       "    .dataframe tbody tr th:only-of-type {\n",
       "        vertical-align: middle;\n",
       "    }\n",
       "\n",
       "    .dataframe tbody tr th {\n",
       "        vertical-align: top;\n",
       "    }\n",
       "\n",
       "    .dataframe thead th {\n",
       "        text-align: right;\n",
       "    }\n",
       "</style>\n",
       "<table border=\"1\" class=\"dataframe\">\n",
       "  <thead>\n",
       "    <tr style=\"text-align: right;\">\n",
       "      <th></th>\n",
       "      <th>Neighborhood</th>\n",
       "      <th>Latitude</th>\n",
       "      <th>Longitude</th>\n",
       "      <th>Room Type</th>\n",
       "      <th>Price(MXN)</th>\n",
       "      <th>Rent Frequency</th>\n",
       "    </tr>\n",
       "  </thead>\n",
       "  <tbody>\n",
       "    <tr>\n",
       "      <td>0</td>\n",
       "      <td>Cuauhtémoc</td>\n",
       "      <td>19.43035</td>\n",
       "      <td>-99.15511</td>\n",
       "      <td>Private room</td>\n",
       "      <td>478</td>\n",
       "      <td>2</td>\n",
       "    </tr>\n",
       "    <tr>\n",
       "      <td>1</td>\n",
       "      <td>Cuauhtémoc</td>\n",
       "      <td>19.44076</td>\n",
       "      <td>-99.16324</td>\n",
       "      <td>Private room</td>\n",
       "      <td>1969</td>\n",
       "      <td>9</td>\n",
       "    </tr>\n",
       "    <tr>\n",
       "      <td>2</td>\n",
       "      <td>Tlalpan</td>\n",
       "      <td>19.27215</td>\n",
       "      <td>-99.21848</td>\n",
       "      <td>Private room</td>\n",
       "      <td>1740</td>\n",
       "      <td>1</td>\n",
       "    </tr>\n",
       "    <tr>\n",
       "      <td>3</td>\n",
       "      <td>Cuajimalpa de Morelos</td>\n",
       "      <td>19.38399</td>\n",
       "      <td>-99.27335</td>\n",
       "      <td>Entire home/apt</td>\n",
       "      <td>3823</td>\n",
       "      <td>2</td>\n",
       "    </tr>\n",
       "    <tr>\n",
       "      <td>4</td>\n",
       "      <td>Cuauhtémoc</td>\n",
       "      <td>19.41006</td>\n",
       "      <td>-99.17645</td>\n",
       "      <td>Private room</td>\n",
       "      <td>1893</td>\n",
       "      <td>10</td>\n",
       "    </tr>\n",
       "  </tbody>\n",
       "</table>\n",
       "</div>"
      ],
      "text/plain": [
       "            Neighborhood  Latitude  Longitude        Room Type  Price(MXN)  \\\n",
       "0             Cuauhtémoc  19.43035  -99.15511     Private room         478   \n",
       "1             Cuauhtémoc  19.44076  -99.16324     Private room        1969   \n",
       "2                Tlalpan  19.27215  -99.21848     Private room        1740   \n",
       "3  Cuajimalpa de Morelos  19.38399  -99.27335  Entire home/apt        3823   \n",
       "4             Cuauhtémoc  19.41006  -99.17645     Private room        1893   \n",
       "\n",
       "   Rent Frequency  \n",
       "0               2  \n",
       "1               9  \n",
       "2               1  \n",
       "3               2  \n",
       "4              10  "
      ]
     },
     "execution_count": 27,
     "metadata": {},
     "output_type": "execute_result"
    }
   ],
   "source": [
    "columns = ['neighbourhood', 'latitude', 'longitude', 'room_type', 'price', 'calculated_host_listings_count']\n",
    "\n",
    "airbnb = airbnb[columns]\n",
    "airbnb.rename({'neighbourhood':'Neighborhood', \n",
    "            'latitude':'Latitude', \n",
    "            'longitude': 'Longitude', \n",
    "            'room_type':'Room Type', \n",
    "            'price':'Price(MXN)',\n",
    "            'calculated_host_listings_count':'Rent Frequency'}, axis = 1, inplace = True)\n",
    "\n",
    "print(airbnb.shape)\n",
    "airbnb.head()"
   ]
  },
  {
   "cell_type": "markdown",
   "metadata": {},
   "source": [
    "We only are going to use 3% of data in order to make the process faster."
   ]
  },
  {
   "cell_type": "code",
   "execution_count": 60,
   "metadata": {},
   "outputs": [
    {
     "name": "stdout",
     "output_type": "stream",
     "text": [
      "(571, 6)\n"
     ]
    },
    {
     "data": {
      "text/html": [
       "<div>\n",
       "<style scoped>\n",
       "    .dataframe tbody tr th:only-of-type {\n",
       "        vertical-align: middle;\n",
       "    }\n",
       "\n",
       "    .dataframe tbody tr th {\n",
       "        vertical-align: top;\n",
       "    }\n",
       "\n",
       "    .dataframe thead th {\n",
       "        text-align: right;\n",
       "    }\n",
       "</style>\n",
       "<table border=\"1\" class=\"dataframe\">\n",
       "  <thead>\n",
       "    <tr style=\"text-align: right;\">\n",
       "      <th></th>\n",
       "      <th>Neighborhood</th>\n",
       "      <th>Latitude</th>\n",
       "      <th>Longitude</th>\n",
       "      <th>Room Type</th>\n",
       "      <th>Price(MXN)</th>\n",
       "      <th>Rent Frequency</th>\n",
       "    </tr>\n",
       "  </thead>\n",
       "  <tbody>\n",
       "    <tr>\n",
       "      <td>8080</td>\n",
       "      <td>Cuauhtémoc</td>\n",
       "      <td>19.42388</td>\n",
       "      <td>-99.15489</td>\n",
       "      <td>Entire home/apt</td>\n",
       "      <td>1396</td>\n",
       "      <td>32</td>\n",
       "    </tr>\n",
       "    <tr>\n",
       "      <td>12395</td>\n",
       "      <td>Tlalpan</td>\n",
       "      <td>19.31051</td>\n",
       "      <td>-99.22104</td>\n",
       "      <td>Entire home/apt</td>\n",
       "      <td>5200</td>\n",
       "      <td>3</td>\n",
       "    </tr>\n",
       "    <tr>\n",
       "      <td>9320</td>\n",
       "      <td>Venustiano Carranza</td>\n",
       "      <td>19.42223</td>\n",
       "      <td>-99.09048</td>\n",
       "      <td>Private room</td>\n",
       "      <td>459</td>\n",
       "      <td>11</td>\n",
       "    </tr>\n",
       "    <tr>\n",
       "      <td>5574</td>\n",
       "      <td>Cuauhtémoc</td>\n",
       "      <td>19.43541</td>\n",
       "      <td>-99.14493</td>\n",
       "      <td>Entire home/apt</td>\n",
       "      <td>822</td>\n",
       "      <td>5</td>\n",
       "    </tr>\n",
       "    <tr>\n",
       "      <td>155</td>\n",
       "      <td>Cuauhtémoc</td>\n",
       "      <td>19.42984</td>\n",
       "      <td>-99.16936</td>\n",
       "      <td>Entire home/apt</td>\n",
       "      <td>956</td>\n",
       "      <td>10</td>\n",
       "    </tr>\n",
       "  </tbody>\n",
       "</table>\n",
       "</div>"
      ],
      "text/plain": [
       "              Neighborhood  Latitude  Longitude        Room Type  Price(MXN)  \\\n",
       "8080            Cuauhtémoc  19.42388  -99.15489  Entire home/apt        1396   \n",
       "12395              Tlalpan  19.31051  -99.22104  Entire home/apt        5200   \n",
       "9320   Venustiano Carranza  19.42223  -99.09048     Private room         459   \n",
       "5574            Cuauhtémoc  19.43541  -99.14493  Entire home/apt         822   \n",
       "155             Cuauhtémoc  19.42984  -99.16936  Entire home/apt         956   \n",
       "\n",
       "       Rent Frequency  \n",
       "8080               32  \n",
       "12395               3  \n",
       "9320               11  \n",
       "5574                5  \n",
       "155                10  "
      ]
     },
     "execution_count": 60,
     "metadata": {},
     "output_type": "execute_result"
    }
   ],
   "source": [
    "from sklearn.model_selection import train_test_split\n",
    "x_train ,air = train_test_split(airbnb,test_size=0.03, random_state=18)\n",
    "\n",
    "print(air.shape)\n",
    "air.head()"
   ]
  }
 ],
 "metadata": {
  "kernelspec": {
   "display_name": "Python 3",
   "language": "python",
   "name": "python3"
  },
  "language_info": {
   "codemirror_mode": {
    "name": "ipython",
    "version": 3
   },
   "file_extension": ".py",
   "mimetype": "text/x-python",
   "name": "python",
   "nbconvert_exporter": "python",
   "pygments_lexer": "ipython3",
   "version": "3.6.5"
  }
 },
 "nbformat": 4,
 "nbformat_minor": 2
}
